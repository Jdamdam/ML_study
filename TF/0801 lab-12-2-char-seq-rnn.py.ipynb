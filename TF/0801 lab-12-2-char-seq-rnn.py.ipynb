{
 "cells": [
  {
   "cell_type": "code",
   "execution_count": 1,
   "metadata": {},
   "outputs": [],
   "source": [
    "# Lab 12 Character Sequence RNN\n",
    "import tensorflow as tf\n",
    "import numpy as np\n",
    "tf.set_random_seed(777)  # reproducibility\n",
    "\n",
    "sample = \" if you want you\"\n",
    "idx2char = list(set(sample))  # index -> char\n",
    "char2idx = {c: i for i, c in enumerate(idx2char)}  # char -> idex\n",
    "\n",
    "# hyper parameters\n",
    "dic_size = len(char2idx)  # RNN input size (one hot size)\n",
    "hidden_size = len(char2idx)  # RNN output size\n",
    "num_classes = len(char2idx)  # final output size (RNN or softmax, etc.)\n",
    "batch_size = 1  # one sample data, one batch\n",
    "sequence_length = len(sample) - 1  # number of lstm rollings (unit #)\n",
    "learning_rate = 0.1\n",
    "\n",
    "sample_idx = [char2idx[c] for c in sample]  # char to index\n",
    "x_data = [sample_idx[:-1]]  # X data sample (0 ~ n-1) hello: hell\n",
    "y_data = [sample_idx[1:]]   # Y label sample (1 ~ n) hello: ello\n",
    "\n"
   ]
  },
  {
   "cell_type": "code",
   "execution_count": 2,
   "metadata": {
    "collapsed": true
   },
   "outputs": [],
   "source": [
    "#LSTM and Loss\n",
    "\n",
    "X = tf.placeholder(tf.int32, [None, sequence_length])  # X data\n",
    "Y = tf.placeholder(tf.int32, [None, sequence_length])  # Y label\n",
    "\n",
    "x_one_hot = tf.one_hot(X, num_classes)  # one hot: 1 -> 0 1 0 0 0 0 0 0 0 0\n",
    "cell = tf.contrib.rnn.BasicLSTMCell(\n",
    "    num_units=hidden_size, state_is_tuple=True)\n",
    "initial_state = cell.zero_state(batch_size, tf.float32)\n",
    "outputs, _states = tf.nn.dynamic_rnn(\n",
    "    cell, x_one_hot, initial_state=initial_state, dtype=tf.float32)\n",
    "\n",
    "# FC layer\n",
    "X_for_fc = tf.reshape(outputs, [-1, hidden_size])\n",
    "outputs = tf.contrib.layers.fully_connected(X_for_fc, num_classes, activation_fn=None)\n",
    "\n",
    "# reshape out for sequence_loss\n",
    "outputs = tf.reshape(outputs, [batch_size, sequence_length, num_classes])\n",
    "\n",
    "weights = tf.ones([batch_size, sequence_length])\n",
    "sequence_loss = tf.contrib.seq2seq.sequence_loss(logits=outputs, targets=Y, weights=weights)\n",
    "loss = tf.reduce_mean(sequence_loss)\n",
    "train = tf.train.AdamOptimizer(learning_rate=learning_rate).minimize(loss)\n",
    "\n",
    "prediction = tf.argmax(outputs, axis=2)\n"
   ]
  },
  {
   "cell_type": "code",
   "execution_count": 3,
   "metadata": {},
   "outputs": [
    {
     "name": "stdout",
     "output_type": "stream",
     "text": [
      "0 loss: 2.29475 Prediction: y              \n",
      "1 loss: 2.16585 Prediction: yy          uuu\n",
      "2 loss: 2.04559 Prediction: yy y        yuu\n",
      "3 loss: 1.89402 Prediction: yy y        y  \n",
      "4 loss: 1.68789 Prediction: yy yo  ww t you\n",
      "5 loss: 1.41977 Prediction: yy you wwnt you\n",
      "6 loss: 1.13475 Prediction: yy you wwnt you\n",
      "7 loss: 0.880887 Prediction: yf you want you\n",
      "8 loss: 0.677756 Prediction: yf you want you\n",
      "9 loss: 0.51936 Prediction: ff you want you\n",
      "10 loss: 0.385309 Prediction: ff you want you\n",
      "11 loss: 0.292408 Prediction: ff you want you\n",
      "12 loss: 0.222089 Prediction: if you want you\n",
      "13 loss: 0.165234 Prediction: if you want you\n",
      "14 loss: 0.122713 Prediction: if you want you\n",
      "15 loss: 0.091053 Prediction: if you want you\n",
      "16 loss: 0.0681875 Prediction: if you want you\n",
      "17 loss: 0.0524001 Prediction: if you want you\n",
      "18 loss: 0.041206 Prediction: if you want you\n",
      "19 loss: 0.0324296 Prediction: if you want you\n",
      "20 loss: 0.0250643 Prediction: if you want you\n",
      "21 loss: 0.018997 Prediction: if you want you\n",
      "22 loss: 0.0142978 Prediction: if you want you\n",
      "23 loss: 0.0108528 Prediction: if you want you\n",
      "24 loss: 0.00839944 Prediction: if you want you\n",
      "25 loss: 0.00665679 Prediction: if you want you\n",
      "26 loss: 0.00539998 Prediction: if you want you\n",
      "27 loss: 0.00447218 Prediction: if you want you\n",
      "28 loss: 0.00377031 Prediction: if you want you\n",
      "29 loss: 0.00322702 Prediction: if you want you\n",
      "30 loss: 0.00279798 Prediction: if you want you\n",
      "31 loss: 0.00245324 Prediction: if you want you\n",
      "32 loss: 0.00217211 Prediction: if you want you\n",
      "33 loss: 0.00193993 Prediction: if you want you\n",
      "34 loss: 0.00174601 Prediction: if you want you\n",
      "35 loss: 0.00158254 Prediction: if you want you\n",
      "36 loss: 0.00144342 Prediction: if you want you\n",
      "37 loss: 0.00132425 Prediction: if you want you\n",
      "38 loss: 0.00122134 Prediction: if you want you\n",
      "39 loss: 0.00113204 Prediction: if you want you\n",
      "40 loss: 0.00105419 Prediction: if you want you\n",
      "41 loss: 0.000986025 Prediction: if you want you\n",
      "42 loss: 0.000926003 Prediction: if you want you\n",
      "43 loss: 0.000873087 Prediction: if you want you\n",
      "44 loss: 0.000826317 Prediction: if you want you\n",
      "45 loss: 0.000784741 Prediction: if you want you\n",
      "46 loss: 0.000747783 Prediction: if you want you\n",
      "47 loss: 0.000714816 Prediction: if you want you\n",
      "48 loss: 0.000685356 Prediction: if you want you\n",
      "49 loss: 0.000658903 Prediction: if you want you\n"
     ]
    }
   ],
   "source": [
    "#Traning and Results\n",
    "\n",
    "\n",
    "with tf.Session() as sess:\n",
    "    sess.run(tf.global_variables_initializer())\n",
    "    for i in range(50):\n",
    "        l, _ = sess.run([loss, train], feed_dict={X: x_data, Y: y_data})\n",
    "        result = sess.run(prediction, feed_dict={X: x_data})\n",
    "\n",
    "        # print char using dic\n",
    "        result_str = [idx2char[c] for c in np.squeeze(result)]\n",
    "\n",
    "        print(i, \"loss:\", l, \"Prediction:\", ''.join(result_str))"
   ]
  }
 ],
 "metadata": {
  "kernelspec": {
   "display_name": "Python 3",
   "language": "python",
   "name": "python3"
  },
  "language_info": {
   "codemirror_mode": {
    "name": "ipython",
    "version": 3
   },
   "file_extension": ".py",
   "mimetype": "text/x-python",
   "name": "python",
   "nbconvert_exporter": "python",
   "pygments_lexer": "ipython3",
   "version": "3.5.3"
  }
 },
 "nbformat": 4,
 "nbformat_minor": 2
}
