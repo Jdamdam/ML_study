{
 "cells": [
  {
   "cell_type": "code",
   "execution_count": 34,
   "metadata": {
    "collapsed": true
   },
   "outputs": [],
   "source": [
    "#Resize 연습\n",
    "\n",
    "#!/usr/bin/python\n",
    "from PIL import Image\n",
    "import os, sys\n",
    "\n",
    "#path = \"C:/Users/multi/Documents/180104/img/\"\n",
    "path = \"C:/Users/multi/Documents/180104/img_data/down/\"\n",
    "dirs = os.listdir( path )\n",
    "output_dir = \"C:/Users/multi/Documents/180104/img_resize/down\"\n",
    "#print(dirs)\n",
    "def resize():\n",
    "    for item in dirs:\n",
    "        if os.path.isfile(path+item):\n",
    "            im = Image.open(path+item)\n",
    "            f, e = os.path.splitext(path+item)\n",
    "            a = os.path.basename(f)\n",
    "            #print(f)\n",
    "            #print(e)\n",
    "            #print(a)\n",
    "            #imResize = im.resize((128,128), Image.ANTIALIAS)\n",
    "            #imResize.save(output_dir, f+'_resized.jpg', 'JPEG', quality=90)\n",
    "            #imResize.save(output_dir+'/'+a+'_resized.jpg', 'JPEG', quality=90)\n",
    "\n",
    "resize()"
   ]
  },
  {
   "cell_type": "code",
   "execution_count": 39,
   "metadata": {
    "scrolled": true
   },
   "outputs": [
    {
     "name": "stdout",
     "output_type": "stream",
     "text": [
      "['down', 'go', 'left', 'no', 'off', 'on', 'right', 'stop', 'up', 'yes']\n",
      "10\n",
      "C:/Users/multi/Documents/180104/img_data/down/\n",
      "C:/Users/multi/Documents/180104/img_resize/down/\n",
      "C:/Users/multi/Documents/180104/img_data/go/\n",
      "C:/Users/multi/Documents/180104/img_resize/go/\n",
      "C:/Users/multi/Documents/180104/img_data/left/\n",
      "C:/Users/multi/Documents/180104/img_resize/left/\n",
      "C:/Users/multi/Documents/180104/img_data/no/\n",
      "C:/Users/multi/Documents/180104/img_resize/no/\n",
      "C:/Users/multi/Documents/180104/img_data/off/\n",
      "C:/Users/multi/Documents/180104/img_resize/off/\n",
      "C:/Users/multi/Documents/180104/img_data/on/\n",
      "C:/Users/multi/Documents/180104/img_resize/on/\n",
      "C:/Users/multi/Documents/180104/img_data/right/\n",
      "C:/Users/multi/Documents/180104/img_resize/right/\n",
      "C:/Users/multi/Documents/180104/img_data/stop/\n",
      "C:/Users/multi/Documents/180104/img_resize/stop/\n",
      "C:/Users/multi/Documents/180104/img_data/up/\n",
      "C:/Users/multi/Documents/180104/img_resize/up/\n",
      "C:/Users/multi/Documents/180104/img_data/yes/\n",
      "C:/Users/multi/Documents/180104/img_resize/yes/\n"
     ]
    }
   ],
   "source": [
    "#Preprocessing - Resize\n",
    "\n",
    "addr = ['down', 'go', 'left', 'no', 'off', 'on', 'right', 'stop', 'up', 'yes']\n",
    "\n",
    "print(addr)\n",
    "print(len(addr))\n",
    "\n",
    "def resize():\n",
    "    for i in addr:\n",
    "        path = \"C:/Users/multi/Documents/180104/img_data/\"+i+\"/\"\n",
    "        dirs = os.listdir( path )\n",
    "        output_dir = \"C:/Users/multi/Documents/180104/img_resize/\"+i+\"/\"\n",
    "        print(path)\n",
    "        print(output_dir)\n",
    "        for item in dirs:\n",
    "            if os.path.isfile(path+item):\n",
    "                im = Image.open(path+item)\n",
    "                f, e = os.path.splitext(path+item)\n",
    "                a = os.path.basename(f)\n",
    "                #print(f)\n",
    "                #print(e)\n",
    "                #print(a)\n",
    "                imResize = im.resize((128,128), Image.ANTIALIAS)\n",
    "                #imResize.save(output_dir, f+'_resized.jpg', 'JPEG', quality=90)\n",
    "                imResize.save(output_dir+'/'+a+'_resized.jpg', 'JPEG', quality=90)\n",
    "\n",
    "resize()\n",
    "print('Preprocessing - Resize Complete!')"
   ]
  },
  {
   "cell_type": "code",
   "execution_count": 98,
   "metadata": {
    "scrolled": true
   },
   "outputs": [
    {
     "name": "stdout",
     "output_type": "stream",
     "text": [
      "C:/Users/multi/Documents/180104/img_resize/down/\n",
      "C:/Users/multi/Documents/180104/resized_array/down/\n",
      "C:/Users/multi/Documents/180104/img_resize/go/\n",
      "C:/Users/multi/Documents/180104/resized_array/go/\n",
      "C:/Users/multi/Documents/180104/img_resize/left/\n",
      "C:/Users/multi/Documents/180104/resized_array/left/\n",
      "C:/Users/multi/Documents/180104/img_resize/no/\n",
      "C:/Users/multi/Documents/180104/resized_array/no/\n",
      "C:/Users/multi/Documents/180104/img_resize/off/\n",
      "C:/Users/multi/Documents/180104/resized_array/off/\n",
      "C:/Users/multi/Documents/180104/img_resize/on/\n",
      "C:/Users/multi/Documents/180104/resized_array/on/\n",
      "C:/Users/multi/Documents/180104/img_resize/right/\n",
      "C:/Users/multi/Documents/180104/resized_array/right/\n",
      "C:/Users/multi/Documents/180104/img_resize/stop/\n",
      "C:/Users/multi/Documents/180104/resized_array/stop/\n",
      "C:/Users/multi/Documents/180104/img_resize/up/\n",
      "C:/Users/multi/Documents/180104/resized_array/up/\n",
      "C:/Users/multi/Documents/180104/img_resize/yes/\n",
      "C:/Users/multi/Documents/180104/resized_array/yes/\n"
     ]
    }
   ],
   "source": [
    "#Preprocessing - Image convert to Array\n",
    "\n",
    "import numpy\n",
    "import PIL\n",
    "\n",
    "addr = ['down', 'go', 'left', 'no', 'off', 'on', 'right', 'stop', 'up', 'yes']\n",
    "\n",
    "def ImgtoArray():\n",
    "    for i in addr:\n",
    "            path = \"C:/Users/multi/Documents/180104/img_resize/\"+i+\"/\"\n",
    "            dirs = os.listdir( path )\n",
    "            output_dir = \"C:/Users/multi/Documents/180104/resized_array/\"+i+\"/\"\n",
    "            print(path)\n",
    "            print(output_dir)\n",
    "            for item in dirs:\n",
    "                if os.path.isfile(path+item):\n",
    "                    im = PIL.Image.open(path+item).convert(\"L\")\n",
    "                    arr = numpy.array(im)\n",
    "                    f, e = os.path.splitext(path+item)\n",
    "                    a = os.path.basename(f)\n",
    "                    #print(f)\n",
    "                    #print(e)\n",
    "                    #print(a)\n",
    "                    #imResize.save(output_dir, f+'_resized.jpg', 'JPEG', quality=90)\n",
    "                    arr = numpy.array(im)\n",
    "                    np.save(output_dir+a+'_array',arr)\n",
    "    \n",
    "ImgtoArray()\n",
    "\n",
    "print('Preprocessing - Image Convert to Array Complete!')"
   ]
  },
  {
   "cell_type": "code",
   "execution_count": 53,
   "metadata": {
    "scrolled": false
   },
   "outputs": [
    {
     "data": {
      "image/png": "[encoded data removed]",
      "text/plain": [
       "<matplotlib.figure.Figure at 0x7f9da0b278>"
      ]
     },
     "metadata": {},
     "output_type": "display_data"
    },
    {
     "ename": "ValueError",
     "evalue": "The truth value of an array with more than one element is ambiguous. Use a.any() or a.all()",
     "output_type": "error",
     "traceback": [
      "\u001b[1;31m---------------------------------------------------------------------------\u001b[0m",
      "\u001b[1;31mValueError\u001b[0m                                Traceback (most recent call last)",
      "\u001b[1;32m<ipython-input-53-d4348f04b613>\u001b[0m in \u001b[0;36m<module>\u001b[1;34m()\u001b[0m\n\u001b[0;32m      3\u001b[0m \u001b[1;31m#plt.imshow('C:/Users/multi/Documents/180104/img_resize/down/00b01445_nohash_0_resized.jpg', cmap=\"gray\")\u001b[0m\u001b[1;33m\u001b[0m\u001b[1;33m\u001b[0m\u001b[0m\n\u001b[0;32m      4\u001b[0m \u001b[0mplt\u001b[0m\u001b[1;33m.\u001b[0m\u001b[0mimshow\u001b[0m\u001b[1;33m(\u001b[0m\u001b[0marr\u001b[0m\u001b[1;33m,\u001b[0m \u001b[0mcmap\u001b[0m\u001b[1;33m=\u001b[0m\u001b[1;34m\"gray\"\u001b[0m\u001b[1;33m)\u001b[0m\u001b[1;33m\u001b[0m\u001b[0m\n\u001b[1;32m----> 5\u001b[1;33m \u001b[0mplt\u001b[0m\u001b[1;33m.\u001b[0m\u001b[0mshow\u001b[0m\u001b[1;33m(\u001b[0m\u001b[0marr\u001b[0m\u001b[1;33m)\u001b[0m\u001b[1;33m\u001b[0m\u001b[0m\n\u001b[0m",
      "\u001b[1;32mC:\\Users\\multi\\Anaconda3\\envs\\py35\\lib\\site-packages\\matplotlib\\pyplot.py\u001b[0m in \u001b[0;36mshow\u001b[1;34m(*args, **kw)\u001b[0m\n\u001b[0;32m    251\u001b[0m     \"\"\"\n\u001b[0;32m    252\u001b[0m     \u001b[1;32mglobal\u001b[0m \u001b[0m_show\u001b[0m\u001b[1;33m\u001b[0m\u001b[0m\n\u001b[1;32m--> 253\u001b[1;33m     \u001b[1;32mreturn\u001b[0m \u001b[0m_show\u001b[0m\u001b[1;33m(\u001b[0m\u001b[1;33m*\u001b[0m\u001b[0margs\u001b[0m\u001b[1;33m,\u001b[0m \u001b[1;33m**\u001b[0m\u001b[0mkw\u001b[0m\u001b[1;33m)\u001b[0m\u001b[1;33m\u001b[0m\u001b[0m\n\u001b[0m\u001b[0;32m    254\u001b[0m \u001b[1;33m\u001b[0m\u001b[0m\n\u001b[0;32m    255\u001b[0m \u001b[1;33m\u001b[0m\u001b[0m\n",
      "\u001b[1;32mC:\\Users\\multi\\Anaconda3\\envs\\py35\\lib\\site-packages\\ipykernel\\pylab\\backend_inline.py\u001b[0m in \u001b[0;36mshow\u001b[1;34m(close, block)\u001b[0m\n\u001b[0;32m     39\u001b[0m         \u001b[1;31m# only call close('all') if any to close\u001b[0m\u001b[1;33m\u001b[0m\u001b[1;33m\u001b[0m\u001b[0m\n\u001b[0;32m     40\u001b[0m         \u001b[1;31m# close triggers gc.collect, which can be slow\u001b[0m\u001b[1;33m\u001b[0m\u001b[1;33m\u001b[0m\u001b[0m\n\u001b[1;32m---> 41\u001b[1;33m         \u001b[1;32mif\u001b[0m \u001b[0mclose\u001b[0m \u001b[1;32mand\u001b[0m \u001b[0mGcf\u001b[0m\u001b[1;33m.\u001b[0m\u001b[0mget_all_fig_managers\u001b[0m\u001b[1;33m(\u001b[0m\u001b[1;33m)\u001b[0m\u001b[1;33m:\u001b[0m\u001b[1;33m\u001b[0m\u001b[0m\n\u001b[0m\u001b[0;32m     42\u001b[0m             \u001b[0mmatplotlib\u001b[0m\u001b[1;33m.\u001b[0m\u001b[0mpyplot\u001b[0m\u001b[1;33m.\u001b[0m\u001b[0mclose\u001b[0m\u001b[1;33m(\u001b[0m\u001b[1;34m'all'\u001b[0m\u001b[1;33m)\u001b[0m\u001b[1;33m\u001b[0m\u001b[0m\n\u001b[0;32m     43\u001b[0m \u001b[1;33m\u001b[0m\u001b[0m\n",
      "\u001b[1;31mValueError\u001b[0m: The truth value of an array with more than one element is ambiguous. Use a.any() or a.all()"
     ]
    }
   ],
   "source": [
    "import matplotlib.pyplot as plt\n",
    "\n",
    "#plt.imshow('C:/Users/multi/Documents/180104/img_resize/down/00b01445_nohash_0_resized.jpg', cmap=\"gray\")\n",
    "plt.imshow(arr, cmap=\"gray\")\n",
    "plt.show(arr)"
   ]
  },
  {
   "cell_type": "code",
   "execution_count": null,
   "metadata": {
    "collapsed": true
   },
   "outputs": [],
   "source": []
  }
 ],
 "metadata": {
  "kernelspec": {
   "display_name": "Python 3",
   "language": "python",
   "name": "python3"
  },
  "language_info": {
   "codemirror_mode": {
    "name": "ipython",
    "version": 3
   },
   "file_extension": ".py",
   "mimetype": "text/x-python",
   "name": "python",
   "nbconvert_exporter": "python",
   "pygments_lexer": "ipython3",
   "version": "3.5.3"
  }
 },
 "nbformat": 4,
 "nbformat_minor": 2
}
