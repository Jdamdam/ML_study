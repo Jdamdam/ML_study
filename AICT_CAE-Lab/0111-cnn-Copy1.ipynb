{
 "cells": [
  {
   "cell_type": "markdown",
   "metadata": {},
   "source": [
    "# CNN(Convolution Neural Network)을 통한 이미지 분류 구현"
   ]
  },
  {
   "cell_type": "markdown",
   "metadata": {},
   "source": [
    "1. 데이터 생성"
   ]
  },
  {
   "cell_type": "markdown",
   "metadata": {},
   "source": [
    "1.1. Traing Data - x_data(0~9) 생성"
   ]
  },
  {
   "cell_type": "code",
   "execution_count": 1,
   "metadata": {
    "collapsed": true,
    "scrolled": true
   },
   "outputs": [],
   "source": [
    "import tensorflow as tf\n",
    "import numpy as np\n",
    "import numpy as np\n",
    "import os\n",
    "from scipy.misc import imread, imresize\n",
    "import matplotlib.pyplot as plt\n",
    "import skimage.io\n",
    "import skimage.transform\n",
    "from datetime import datetime\n",
    "\n",
    "tf.set_random_seed(777)  # for reproducibility\n",
    "now = datetime.now()\n",
    "\n",
    "x_data = [[1, 1, 1, 1, 1, \n",
    "           1, 0, 0, 0, 1, \n",
    "           1, 0, 0, 0, 1,  \n",
    "           1, 0, 0, 0, 1, \n",
    "           1, 1, 1, 1, 1], #0 \n",
    "          [0, 0, 1, 0, 0,  \n",
    "           0, 0, 1, 0, 0, \n",
    "           0, 0, 1, 0, 0,  \n",
    "           0, 0, 1, 0, 0, \n",
    "           0, 0, 1, 0, 0], #1\n",
    "          [1, 1, 1, 1, 1, \n",
    "           0, 0, 0, 0, 1,\n",
    "           1, 1, 1, 1, 1,\n",
    "           1, 0, 0, 0, 0,  \n",
    "           1, 1, 1, 1, 1], #2\n",
    "          [1, 1, 1, 1, 1,\n",
    "           0, 0, 0, 0, 1,\n",
    "           1, 1, 1, 1, 1,\n",
    "           0, 0, 0, 0, 1,\n",
    "           1, 1, 1, 1, 1], #3\n",
    "          [1, 0, 1, 0, 0,  \n",
    "           1, 0, 1, 0, 0, \n",
    "           1, 1, 1, 1, 1,\n",
    "           0, 0, 1, 0, 0, \n",
    "           0, 0, 1, 0, 0], #4\n",
    "          [1, 1, 1, 1, 1,\n",
    "           1, 0, 0, 0, 0,\n",
    "           1, 1, 1, 1, 1,\n",
    "           0, 0, 0, 0, 1, \n",
    "           1, 1, 1, 1, 1], #5\n",
    "          [1, 1, 1, 1, 1,\n",
    "           1, 0, 0, 0, 0,\n",
    "           1, 1, 1, 1, 1, \n",
    "           1, 0, 0, 0, 1, \n",
    "           1, 1, 1, 1, 1], #6\n",
    "          [1, 1, 1, 1, 1, \n",
    "           1, 0, 0, 0, 1,  \n",
    "           1, 0, 0, 0, 1, \n",
    "           0, 0, 0, 0, 1, \n",
    "           0, 0, 0, 0, 1], #7\n",
    "          [1, 1, 1, 1, 1, \n",
    "           1, 0, 0, 0, 1, \n",
    "           1, 1, 1, 1, 1, \n",
    "           1, 0, 0, 0, 1,  \n",
    "           1, 1, 1, 1, 1], #8\n",
    "          [1, 1, 1, 1, 1, \n",
    "           1, 0, 0, 0, 1, \n",
    "           1, 1, 1, 1, 1,  \n",
    "           0, 0, 0, 0, 1,  \n",
    "           0, 0, 0, 0, 1],  #9\n",
    "          [1, 0, 0, 0, 0, \n",
    "           1, 0, 0, 0, 0, \n",
    "           1, 0, 0, 0, 0, \n",
    "           1, 0, 0, 0, 0,  \n",
    "           1, 0, 0, 0, 0], #1\n",
    "          [0, 1, 0, 0, 0, \n",
    "           0, 1, 0, 0, 0, \n",
    "           0, 1, 0, 0, 0, \n",
    "           0, 1, 0, 0, 0,  \n",
    "           0, 1, 0, 0, 0], #1\n",
    "          [0, 0, 0, 1, 0, \n",
    "           0, 0, 0, 1, 0, \n",
    "           0, 0, 0, 1, 0, \n",
    "           0, 0, 0, 1, 0,  \n",
    "           0, 0, 0, 1, 0], #1\n",
    "          [0, 0, 0, 0, 1, \n",
    "           0, 0, 0, 0, 1, \n",
    "           0, 0, 0, 0, 1, \n",
    "           0, 0, 0, 0, 1,  \n",
    "           0, 0, 0, 0, 1], #1\n",
    "          [0, 0, 0, 0, 0, \n",
    "           0, 0, 1, 0, 0, \n",
    "           0, 0, 1, 0, 0, \n",
    "           0, 0, 1, 0, 0,  \n",
    "           0, 0, 0, 0, 0], #1\n",
    "          [0, 0, 0, 1, 0, \n",
    "           0, 0, 0, 1, 0, \n",
    "           0, 0, 0, 0, 0, \n",
    "           0, 0, 0, 0, 0,  \n",
    "           0, 0, 0, 0, 0], #1\n",
    "          [1, 1, 1, 0, 0, \n",
    "           0, 0, 1, 0, 0, \n",
    "           1, 1, 1, 0, 0, \n",
    "           1, 0, 0, 0, 0,  \n",
    "           1, 1, 1, 0, 0] #2\n",
    "         ] \n"
   ]
  },
  {
   "cell_type": "markdown",
   "metadata": {},
   "source": [
    "1.2. Traing Data - y_data(Label - 0~9) 생성"
   ]
  },
  {
   "cell_type": "code",
   "execution_count": 2,
   "metadata": {
    "collapsed": true
   },
   "outputs": [],
   "source": [
    "# y_data = [[0],\n",
    "#           [1],\n",
    "#           [2],\n",
    "#           [3],\n",
    "#           [4],\n",
    "#           [5],\n",
    "#           [6],\n",
    "#           [7],\n",
    "#           [8],\n",
    "#           [9]]\n",
    "y_data = [[0, 1, 2, 3, 4, 5, 6, 7, 8, 9, 1, 1, 1, 1, 1, 1, 2]]\n"
   ]
  },
  {
   "cell_type": "markdown",
   "metadata": {},
   "source": [
    "1.3. Test Data - test_data(9, 8, 1, 5, 1, 1, 1, 1, 1, 2) 생성 - 1과 2는 다른 케이스를 주었다"
   ]
  },
  {
   "cell_type": "code",
   "execution_count": 3,
   "metadata": {
    "collapsed": true
   },
   "outputs": [],
   "source": [
    "test_data =[[1, 1, 1, 1, 1,  \n",
    "             1, 0, 0, 0, 1,  \n",
    "             1, 1, 1, 1, 1,  \n",
    "             0, 0, 0, 0, 1,  \n",
    "             0, 0, 0, 0, 1], #9\n",
    "            [1, 1, 1, 1, 1, \n",
    "             1, 0, 0, 0, 1, \n",
    "             1, 1, 1, 1, 1, \n",
    "             1, 0, 0, 0, 1,  \n",
    "             1, 1, 1, 1, 1], #8\n",
    "            [0, 0, 1, 0, 0,  \n",
    "             0, 0, 1, 0, 0, \n",
    "             0, 0, 1, 0, 0,  \n",
    "             0, 0, 1, 0, 0, \n",
    "             0, 0, 1, 0, 0], #1\n",
    "            [1, 1, 1, 1, 1,\n",
    "             1, 0, 0, 0, 0,\n",
    "             1, 1, 1, 1, 1,\n",
    "             0, 0, 0, 0, 1, \n",
    "             1, 1, 1, 1, 1], #5\n",
    "            [0, 0, 0, 1, 0, \n",
    "             0, 0, 0, 1, 0, \n",
    "             0, 0, 0, 1, 0, \n",
    "             0, 0, 0, 1, 0,  \n",
    "             0, 0, 0, 1, 0], #1\n",
    "            [0, 0, 0, 1, 0, \n",
    "             0, 0, 0, 1, 0, \n",
    "             0, 0, 0, 1, 0, \n",
    "             0, 0, 0, 0, 0,  \n",
    "             0, 0, 0, 0, 0], #1\n",
    "            [0, 0, 0, 0, 0, \n",
    "             0, 0, 0, 0, 0, \n",
    "             1, 0, 0, 0, 0, \n",
    "             1, 0, 0, 0, 0,  \n",
    "             1, 0, 0, 0, 0], #1  \n",
    "            [0, 0, 0, 0, 0,\n",
    "             1, 0, 0, 0, 0, \n",
    "             1, 0, 0, 0, 0, \n",
    "             1, 0, 0, 0, 0,  \n",
    "             0, 0, 0, 0, 0], #1\n",
    "            [0, 0, 0, 0, 0,\n",
    "             0, 0, 0, 0, 0, \n",
    "             0, 1, 0, 0, 0, \n",
    "             0, 1, 0, 0, 0,  \n",
    "             0, 0, 0, 0, 0], #1\n",
    "            [1, 1, 1, 1, 0, \n",
    "             0, 0, 0, 1, 0, \n",
    "             1, 1, 1, 1, 0, \n",
    "             1, 0, 0, 0, 0,  \n",
    "             1, 1, 1, 1, 0],  #2\n",
    "            [1, 1, 1, 0, 0, \n",
    "             0, 0, 1, 0, 0, \n",
    "             1, 1, 1, 0, 0, \n",
    "             1, 0, 0, 0, 0,  \n",
    "             1, 1, 1, 0, 0]  #2\n",
    "           ] \n"
   ]
  },
  {
   "cell_type": "markdown",
   "metadata": {},
   "source": [
    "1.4. Test Data - test_true(Label  - 9, 8, 1, 5, 1, 1, 1, 1, 1, 2) 생성 - 1과 2는 다른 케이스를 주었다"
   ]
  },
  {
   "cell_type": "code",
   "execution_count": 4,
   "metadata": {
    "collapsed": true,
    "scrolled": true
   },
   "outputs": [],
   "source": [
    "test_true = [[9, 8, 1, 5, 1, 1, 1, 1, 1, 2, 2]]\n",
    "\n",
    "#print(x_data, '\\n', y_data, '\\n', test_data)\n",
    "\n",
    "nb_classes = 17  # 0 ~ 9\n",
    "\n"
   ]
  },
  {
   "cell_type": "markdown",
   "metadata": {},
   "source": [
    " 2.1. 데이터 전처리 - placeholder에 들어갈 수 있게 np.array로 변환"
   ]
  },
  {
   "cell_type": "code",
   "execution_count": 15,
   "metadata": {
    "collapsed": true
   },
   "outputs": [],
   "source": [
    "x_data = np.array(x_data, dtype=np.float32)\n",
    "y_data = np.array(y_data, dtype=np.int32)\n",
    "test_data = np.array(test_data, dtype=np.int32)\n",
    "test_true = np.array(test_true, dtype=np.int32)\n",
    "\n",
    "X = tf.placeholder(tf.float32, shape=[None, 25], name = 'x_input')\n",
    "X_img = tf.reshape(X, [-1, 5, 5, 1])\n",
    "Y = tf.placeholder(tf.int32, shape=[None, 17], name = 'y_input')\n",
    "keep_prob = tf.placeholder(tf.float32)"
   ]
  },
  {
   "cell_type": "markdown",
   "metadata": {},
   "source": [
    " 2.2.1. 데이터 전처리_Traing set - array 시각화(이미지)"
   ]
  },
  {
   "cell_type": "code",
   "execution_count": 16,
   "metadata": {
    "scrolled": true
   },
   "outputs": [
    {
     "data": {
      "image/png": "[encoded data removed]",
      "text/plain": [
       "<matplotlib.figure.Figure at 0x953fd2a4a8>"
      ]
     },
     "metadata": {},
     "output_type": "display_data"
    },
    {
     "data": {
      "image/png": "[encoded data removed]",
      "text/plain": [
       "<matplotlib.figure.Figure at 0x953fd72828>"
      ]
     },
     "metadata": {},
     "output_type": "display_data"
    },
    {
     "data": {
      "image/png": "[encoded data removed]",
      "text/plain": [
       "<matplotlib.figure.Figure at 0x953ec38b38>"
      ]
     },
     "metadata": {},
     "output_type": "display_data"
    },
    {
     "data": {
      "image/png": "[encoded data removed]",
      "text/plain": [
       "<matplotlib.figure.Figure at 0x953fe68d68>"
      ]
     },
     "metadata": {},
     "output_type": "display_data"
    },
    {
     "data": {
      "image/png": "[encoded data removed]",
      "text/plain": [
       "<matplotlib.figure.Figure at 0x953ffde9b0>"
      ]
     },
     "metadata": {},
     "output_type": "display_data"
    },
    {
     "data": {
      "image/png": "[encoded data removed]",
      "text/plain": [
       "<matplotlib.figure.Figure at 0x9540003860>"
      ]
     },
     "metadata": {},
     "output_type": "display_data"
    },
    {
     "data": {
      "image/png": "[encoded data removed]",
      "text/plain": [
       "<matplotlib.figure.Figure at 0x9540068e80>"
      ]
     },
     "metadata": {},
     "output_type": "display_data"
    },
    {
     "data": {
      "image/png": "[encoded data removed]",
      "text/plain": [
       "<matplotlib.figure.Figure at 0x95400d19e8>"
      ]
     },
     "metadata": {},
     "output_type": "display_data"
    },
    {
     "data": {
      "image/png": "[encoded data removed]",
      "text/plain": [
       "<matplotlib.figure.Figure at 0x9540131e48>"
      ]
     },
     "metadata": {},
     "output_type": "display_data"
    },
    {
     "data": {
      "image/png": "[encoded data removed]",
      "text/plain": [
       "<matplotlib.figure.Figure at 0x95400db780>"
      ]
     },
     "metadata": {},
     "output_type": "display_data"
    },
    {
     "data": {
      "image/png": "[encoded data removed]",
      "text/plain": [
       "<matplotlib.figure.Figure at 0x954013b898>"
      ]
     },
     "metadata": {},
     "output_type": "display_data"
    },
    {
     "data": {
      "image/png": "[encoded data removed]",
      "text/plain": [
       "<matplotlib.figure.Figure at 0x953feaebe0>"
      ]
     },
     "metadata": {},
     "output_type": "display_data"
    },
    {
     "data": {
      "image/png": "[encoded data removed]",
      "text/plain": [
       "<matplotlib.figure.Figure at 0x953ff8e1d0>"
      ]
     },
     "metadata": {},
     "output_type": "display_data"
    },
    {
     "data": {
      "image/png": "[encoded data removed]",
      "text/plain": [
       "<matplotlib.figure.Figure at 0x953ecdc198>"
      ]
     },
     "metadata": {},
     "output_type": "display_data"
    },
    {
     "data": {
      "image/png": "[encoded data removed]",
      "text/plain": [
       "<matplotlib.figure.Figure at 0x954007ddd8>"
      ]
     },
     "metadata": {},
     "output_type": "display_data"
    },
    {
     "data": {
      "image/png": "[encoded data removed]",
      "text/plain": [
       "<matplotlib.figure.Figure at 0x953fd9b240>"
      ]
     },
     "metadata": {},
     "output_type": "display_data"
    },
    {
     "data": {
      "image/png": "[encoded data removed]",
      "text/plain": [
       "<matplotlib.figure.Figure at 0x953ed130f0>"
      ]
     },
     "metadata": {},
     "output_type": "display_data"
    }
   ],
   "source": [
    "from PIL import Image\n",
    "\n",
    "A = Image.new(\"L\", (5, 5), color=\"black\")\n",
    "\n",
    "for i in range(len(x_data)):\n",
    "    A.putdata(x_data[i])\n",
    "    plt.title(str(i+1) +  \"th Training data\")\n",
    "    plt.imshow(A, cmap=\"gray\")\n",
    "    plt.show(A)"
   ]
  },
  {
   "cell_type": "markdown",
   "metadata": {},
   "source": [
    "2.2.2. 데이터 전처리_Test set - array 시각화(이미지)"
   ]
  },
  {
   "cell_type": "code",
   "execution_count": 17,
   "metadata": {
    "scrolled": true
   },
   "outputs": [
    {
     "data": {
      "image/png": "[encoded data removed]",
      "text/plain": [
       "<matplotlib.figure.Figure at 0x953fd2a080>"
      ]
     },
     "metadata": {},
     "output_type": "display_data"
    },
    {
     "data": {
      "image/png": "[encoded data removed]",
      "text/plain": [
       "<matplotlib.figure.Figure at 0x953ff3fcc0>"
      ]
     },
     "metadata": {},
     "output_type": "display_data"
    },
    {
     "data": {
      "image/png": "[encoded data removed]",
      "text/plain": [
       "<matplotlib.figure.Figure at 0x953ff12860>"
      ]
     },
     "metadata": {},
     "output_type": "display_data"
    },
    {
     "data": {
      "image/png": "[encoded data removed]",
      "text/plain": [
       "<matplotlib.figure.Figure at 0x95401e73c8>"
      ]
     },
     "metadata": {},
     "output_type": "display_data"
    },
    {
     "data": {
      "image/png": "[encoded data removed]",
      "text/plain": [
       "<matplotlib.figure.Figure at 0x95401743c8>"
      ]
     },
     "metadata": {},
     "output_type": "display_data"
    },
    {
     "data": {
      "image/png": "[encoded data removed]",
      "text/plain": [
       "<matplotlib.figure.Figure at 0x953ff5f128>"
      ]
     },
     "metadata": {},
     "output_type": "display_data"
    },
    {
     "data": {
      "image/png": "[encoded data removed]",
      "text/plain": [
       "<matplotlib.figure.Figure at 0x9540189d30>"
      ]
     },
     "metadata": {},
     "output_type": "display_data"
    },
    {
     "data": {
      "image/png": "[encoded data removed]",
      "text/plain": [
       "<matplotlib.figure.Figure at 0x953fee8400>"
      ]
     },
     "metadata": {},
     "output_type": "display_data"
    },
    {
     "data": {
      "image/png": "[encoded data removed]",
      "text/plain": [
       "<matplotlib.figure.Figure at 0x953eb735f8>"
      ]
     },
     "metadata": {},
     "output_type": "display_data"
    },
    {
     "data": {
      "image/png": "[encoded data removed]",
      "text/plain": [
       "<matplotlib.figure.Figure at 0x953ff2ed68>"
      ]
     },
     "metadata": {},
     "output_type": "display_data"
    },
    {
     "data": {
      "image/png": "[encoded data removed]",
      "text/plain": [
       "<matplotlib.figure.Figure at 0x953fef30f0>"
      ]
     },
     "metadata": {},
     "output_type": "display_data"
    }
   ],
   "source": [
    "for i in range(len(test_data)):\n",
    "    A.putdata(test_data[i])\n",
    "    plt.title(str(i+1) +  \"th TEST_data\")\n",
    "    plt.imshow(A, cmap=\"gray\")\n",
    "    plt.show(A)"
   ]
  },
  {
   "cell_type": "markdown",
   "metadata": {},
   "source": [
    "2.3. 데이터 전처리 - One_hot Encoding & Reshape"
   ]
  },
  {
   "cell_type": "code",
   "execution_count": 18,
   "metadata": {
    "scrolled": true
   },
   "outputs": [
    {
     "name": "stdout",
     "output_type": "stream",
     "text": [
      "One_hot Tensor(\"one_hot:0\", shape=(?, 17, 17), dtype=float32)\n"
     ]
    }
   ],
   "source": [
    "Y_one_hot = tf.one_hot(Y, nb_classes)  # one hot\n",
    "print(\"One_hot\", Y_one_hot)\n",
    "Y_one_hot = tf.reshape(Y_one_hot, [-1, nb_classes])\n",
    "\n",
    "#print(\"Reshape\", Y_one_hot)\n",
    "\n",
    "#print('re ', x_data, '\\n', y_data, '\\n', test_data)\n",
    "#print(X, Y)"
   ]
  },
  {
   "cell_type": "markdown",
   "metadata": {},
   "source": [
    "3.1. Training - Hyperparameter(Learning rate & iteration) 설정"
   ]
  },
  {
   "cell_type": "code",
   "execution_count": 19,
   "metadata": {
    "collapsed": true
   },
   "outputs": [],
   "source": [
    "#Hyperparameter\n",
    "learning_rate = 0.001\n",
    "iteration = 10000\n",
    "batch_size = 5"
   ]
  },
  {
   "cell_type": "markdown",
   "metadata": {},
   "source": [
    "3.2. Training - Layer 설정(3-Layer(25-20-10) & 3-Relu )"
   ]
  },
  {
   "cell_type": "code",
   "execution_count": 20,
   "metadata": {
    "collapsed": true
   },
   "outputs": [],
   "source": [
    "def conv2d(x, W):\n",
    "  return tf.nn.conv2d(x, W, strides=[1, 1, 1, 1], padding='SAME')\n",
    "\n",
    "def max_pool_2x2(x):\n",
    "  return tf.nn.max_pool(x, ksize=[1, 2, 2, 1],\n",
    "                        strides=[1, 2, 2, 1], padding='SAME')"
   ]
  },
  {
   "cell_type": "code",
   "execution_count": 11,
   "metadata": {
    "collapsed": true
   },
   "outputs": [],
   "source": [
    "#tf.reset_default_graph() "
   ]
  },
  {
   "cell_type": "code",
   "execution_count": 21,
   "metadata": {},
   "outputs": [],
   "source": [
    "with tf.name_scope(\"Layer1\") as scope:\n",
    "    W1 = tf.Variable(tf.random_normal([3, 3, 1, 10], stddev=0.01), name='Weight1')\n",
    "    b1 = tf.Variable(tf.random_normal([10]), name='Bias1')\n",
    "    L1 = tf.nn.relu(conv2d(X_img, W1) + b1)\n",
    "    L1 = max_pool_2x2(L1)\n",
    "    L1 = tf.nn.dropout(L1, keep_prob=keep_prob)\n",
    "    \n",
    "    W1_hist = tf.summary.histogram(\"Weight1\", W1)\n",
    "    b1_hist = tf.summary.histogram(\"Bias1\", b1)\n",
    "    L1_hist = tf.summary.histogram(\"Layer1\", L1)"
   ]
  },
  {
   "cell_type": "code",
   "execution_count": 23,
   "metadata": {},
   "outputs": [],
   "source": [
    "with tf.name_scope(\"Layer2\") as scope:\n",
    "    W2 = tf.Variable(tf.random_normal([3, 3, 10, 10], stddev=0.01), name='Weight2')\n",
    "    b2 = tf.Variable(tf.random_normal([10]), name='Bias2')\n",
    "    L2 = tf.nn.relu(conv2d(L1, W2) + b2)\n",
    "    L2 = max_pool_2x2(L2)\n",
    "    L2 = tf.nn.dropout(L2, keep_prob=keep_prob)\n",
    "    L2 = tf.reshape(L2, [-1, 10 * 4 * 4])\n",
    "    \n",
    "    W2_hist = tf.summary.histogram(\"Weight2\", W2)\n",
    "    b2_hist = tf.summary.histogram(\"Bias2\", b2)\n",
    "    L2_hist = tf.summary.histogram(\"Layer2\", L2)"
   ]
  },
  {
   "cell_type": "code",
   "execution_count": 24,
   "metadata": {},
   "outputs": [],
   "source": [
    "with tf.name_scope(\"Layer3\") as scope:\n",
    "    W3 = tf.get_variable(\n",
    "                     name=\"Weight3\",\n",
    "                     shape=[10 * 4 * 4, 15],\n",
    "                     initializer=tf.contrib.layers.xavier_initializer()\n",
    "                    )\n",
    "    b3 = tf.Variable(tf.random_normal([15]), name='Bias3')\n",
    "    L3 = tf.nn.relu(tf.matmul(L2, W3) + b3)\n",
    "    L3 = tf.nn.dropout(L3, keep_prob=keep_prob)\n",
    "    \n",
    "    W3_hist = tf.summary.histogram(\"Weight3\", W3)\n",
    "    b3_hist = tf.summary.histogram(\"Biase3\", b3)\n",
    "    L3_hist = tf.summary.histogram(\"Layer3\", L3)"
   ]
  },
  {
   "cell_type": "code",
   "execution_count": 25,
   "metadata": {},
   "outputs": [],
   "source": [
    "with tf.name_scope(\"Layer4\") as scope:\n",
    "    W4 = tf.get_variable(\n",
    "                     name=\"Weight4\", \n",
    "                     shape=[15, 17],\n",
    "                     initializer=tf.contrib.layers.xavier_initializer()\n",
    "                    )\n",
    "    b4 = tf.Variable(tf.random_normal([17]), name='Bias4')\n",
    "    hypothesis = tf.matmul(L3, W4) + b4\n",
    "    \n",
    "    W4_hist = tf.summary.histogram(\"Weight4\", W3)\n",
    "    b4_hist = tf.summary.histogram(\"Biase4\", b3)\n",
    "    L4_hist = tf.summary.histogram(\"Layer4\", L3)"
   ]
  },
  {
   "cell_type": "code",
   "execution_count": null,
   "metadata": {
    "collapsed": true
   },
   "outputs": [],
   "source": [
    "# W1 = tf.Variable(tf.random_normal([3, 3, 1, 32], stddev=0.01))\n",
    "# L1 = tf.nn.relu(conv2d(X_img, W1) + b1)\n",
    "# L1 = max_pool_2x2(L1)\n",
    "# L1 = tf.nn.dropout(L1, keep_prob=keep_prob)\n",
    "\n",
    "# W2 = tf.Variable(tf.random_normal([3, 3, 32, 64], stddev=0.01))\n",
    "# L2 = tf.nn.conv2d(L1, W2, strides=[1, 1, 1, 1], padding='SAME')\n",
    "# L2 = tf.nn.relu(L2)\n",
    "# L2 = tf.nn.max_pool(L2, ksize=[1, 2, 2, 1],\n",
    "#                     strides=[1, 2, 2, 1], padding='SAME')\n",
    "# L2 = tf.nn.dropout(L2, keep_prob=keep_prob)\n",
    "\n",
    "# W3 = tf.Variable(tf.random_normal([3, 3, 64, 128], stddev=0.01))\n",
    "# L3 = tf.nn.conv2d(L2, W3, strides=[1, 1, 1, 1], padding='SAME')\n",
    "# L3 = tf.nn.relu(L3)\n",
    "# L3 = tf.nn.max_pool(L3, ksize=[1, 2, 2, 1], \n",
    "#                     strides=[1, 2, 2, 1], padding='SAME')\n",
    "# L3 = tf.nn.dropout(L3, keep_prob=keep_prob)\n",
    "# L3 = tf.reshape(L3, [-1, 128 * 4 * 4])\n",
    "\n",
    "# W4 = tf.get_variable(\"W4\", shape=[128 * 4 * 4, 625],\n",
    "#                      initializer=tf.contrib.layers.xavier_initializer())\n",
    "# b4 = tf.Variable(tf.random_normal([625]))\n",
    "# L4 = tf.nn.relu(tf.matmul(L3, W4) + b4)\n",
    "# L4 = tf.nn.dropout(L4, keep_prob=keep_prob)\n",
    "\n",
    "# W5 = tf.get_variable(\"W5\", shape=[625, 10],\n",
    "#                       initializer=tf.contrib.layers.xavier_initializer())\n",
    "# b5 = tf.Variable(tf.random_normal([10]))\n",
    "# hypothesis = tf.matmul(L4, W5) + b5\n",
    "\n",
    "    "
   ]
  },
  {
   "cell_type": "code",
   "execution_count": null,
   "metadata": {
    "collapsed": true
   },
   "outputs": [],
   "source": [
    "# with tf.name_scope(\"layer1\") as scope:\n",
    "#     W1 = tf.get_variable(\n",
    "#                          name = 'weight1',\n",
    "#                          shape = [25, 20],\n",
    "#                          initializer = tf.contrib.layers.xavier_initializer()\n",
    "#                         )\n",
    "#     b1 = tf.Variable(tf.random_normal([20]), name='bias1')\n",
    "#     layer1 = tf.nn.relu(conv2d(X, W1) + b1)\n",
    "#     layer1 = tf.nn.dropout(layer1, keep_prob = keep_prob)\n",
    "    \n",
    "#     w1_hist = tf.summary.histogram(\"weights1\", W1)\n",
    "#     b1_hist = tf.summary.histogram(\"biases1\", b1)\n",
    "#     layer1_hist = tf.summary.histogram(\"layer1\", layer1)\n",
    "    \n",
    "# with tf.name_scope(\"layer2\") as scope:\n",
    "#     W2 = tf.get_variable(\n",
    "#                          name = 'weight2',\n",
    "#                          shape = [20, 10],\n",
    "#                          initializer = tf.contrib.layers.xavier_initializer()\n",
    "#                         )\n",
    "#     b2 = tf.Variable(tf.random_normal([10]), name='bias2')\n",
    "#     layer2 = tf.nn.relu(conv2d(layer1, W2) + b2)\n",
    "#     layer2 = tf.nn.dropout(layer2, keep_prob = keep_prob)\n",
    "    \n",
    "#     w2_hist = tf.summary.histogram(\"weights2\", W2)\n",
    "#     b2_hist = tf.summary.histogram(\"biases2\", b2)\n",
    "#     layer2_hist = tf.summary.histogram(\"layer2\", layer2)\n",
    "    \n",
    "# with tf.name_scope(\"layer3\") as scope:\n",
    "#     W3 = tf.get_variable(\n",
    "#                          name = 'weight3',\n",
    "#                          shape = [10, nb_classes],\n",
    "#                          initializer = tf.contrib.layers.xavier_initializer()\n",
    "#                         )\n",
    "#     b3 = tf.Variable(tf.random_normal([nb_classes]), name='bias3')\n",
    "#     hypothesis = tf.matmul(layer2, W3) + b3\n",
    "    \n",
    "#     w3_hist = tf.summary.histogram(\"weights2\", W3)\n",
    "#     b3_hist = tf.summary.histogram(\"biases2\", b3)\n",
    "#     hypothesis_hist = tf.summary.histogram(\"hypothesis\", hypothesis)\n",
    "    \n",
    "# print(\"Hypothesis : {} \".format(hypothesis))"
   ]
  },
  {
   "cell_type": "markdown",
   "metadata": {},
   "source": [
    "3.3. Training - Cost Fuction 설정 : Softmax-Cross_Entropy"
   ]
  },
  {
   "cell_type": "code",
   "execution_count": 26,
   "metadata": {},
   "outputs": [
    {
     "name": "stdout",
     "output_type": "stream",
     "text": [
      "Cost: Tensor(\"cost/Mean:0\", shape=(), dtype=float32) \n"
     ]
    }
   ],
   "source": [
    "# cost/loss function\n",
    "with tf.name_scope(\"cost\") as scope:\n",
    "    cost = tf.reduce_mean(tf.nn.softmax_cross_entropy_with_logits(logits=hypothesis, labels=Y_one_hot))\n",
    "    cost_summ = tf.summary.scalar(\"cost\", cost)\n",
    "print(\"Cost: {} \".format(cost))"
   ]
  },
  {
   "cell_type": "markdown",
   "metadata": {},
   "source": [
    "3.4. Training - Optimizer 설정 : Adam"
   ]
  },
  {
   "cell_type": "code",
   "execution_count": 27,
   "metadata": {
    "collapsed": true
   },
   "outputs": [],
   "source": [
    "with tf.name_scope(\"train\") as scope:\n",
    "    optimizer = tf.train.AdamOptimizer(learning_rate=learning_rate).minimize(cost)\n",
    "\n",
    "prediction  = tf.argmax(hypothesis, 1)\n",
    "correct_prediction = tf.equal(prediction, tf.argmax(Y_one_hot, 1))\n",
    "accuracy = tf.reduce_mean(tf.cast(correct_prediction, tf.float32))\n",
    "accuracy_summ = tf.summary.scalar(\"accuracy\", accuracy)"
   ]
  },
  {
   "cell_type": "markdown",
   "metadata": {},
   "source": [
    "3.5. Training - Run & Test(Prediction) - Training set & Test set"
   ]
  },
  {
   "cell_type": "code",
   "execution_count": 29,
   "metadata": {
    "scrolled": true
   },
   "outputs": [
    {
     "ename": "InvalidArgumentError",
     "evalue": "Input to reshape is a tensor with 680 values, but the requested shape requires a multiple of 128\n\t [[Node: Layer2/Reshape = Reshape[T=DT_FLOAT, Tshape=DT_INT32, _device=\"/job:localhost/replica:0/task:0/cpu:0\"](Layer2/dropout/mul, Layer2/Reshape/shape)]]\n\nCaused by op 'Layer2/Reshape', defined at:\n  File \"C:\\Users\\multi\\Anaconda3\\envs\\py35\\lib\\runpy.py\", line 193, in _run_module_as_main\n    \"__main__\", mod_spec)\n  File \"C:\\Users\\multi\\Anaconda3\\envs\\py35\\lib\\runpy.py\", line 85, in _run_code\n    exec(code, run_globals)\n  File \"C:\\Users\\multi\\Anaconda3\\envs\\py35\\lib\\site-packages\\ipykernel_launcher.py\", line 16, in <module>\n    app.launch_new_instance()\n  File \"C:\\Users\\multi\\Anaconda3\\envs\\py35\\lib\\site-packages\\traitlets\\config\\application.py\", line 658, in launch_instance\n    app.start()\n  File \"C:\\Users\\multi\\Anaconda3\\envs\\py35\\lib\\site-packages\\ipykernel\\kernelapp.py\", line 477, in start\n    ioloop.IOLoop.instance().start()\n  File \"C:\\Users\\multi\\Anaconda3\\envs\\py35\\lib\\site-packages\\zmq\\eventloop\\ioloop.py\", line 177, in start\n    super(ZMQIOLoop, self).start()\n  File \"C:\\Users\\multi\\Anaconda3\\envs\\py35\\lib\\site-packages\\tornado\\ioloop.py\", line 888, in start\n    handler_func(fd_obj, events)\n  File \"C:\\Users\\multi\\Anaconda3\\envs\\py35\\lib\\site-packages\\tornado\\stack_context.py\", line 277, in null_wrapper\n    return fn(*args, **kwargs)\n  File \"C:\\Users\\multi\\Anaconda3\\envs\\py35\\lib\\site-packages\\zmq\\eventloop\\zmqstream.py\", line 440, in _handle_events\n    self._handle_recv()\n  File \"C:\\Users\\multi\\Anaconda3\\envs\\py35\\lib\\site-packages\\zmq\\eventloop\\zmqstream.py\", line 472, in _handle_recv\n    self._run_callback(callback, msg)\n  File \"C:\\Users\\multi\\Anaconda3\\envs\\py35\\lib\\site-packages\\zmq\\eventloop\\zmqstream.py\", line 414, in _run_callback\n    callback(*args, **kwargs)\n  File \"C:\\Users\\multi\\Anaconda3\\envs\\py35\\lib\\site-packages\\tornado\\stack_context.py\", line 277, in null_wrapper\n    return fn(*args, **kwargs)\n  File \"C:\\Users\\multi\\Anaconda3\\envs\\py35\\lib\\site-packages\\ipykernel\\kernelbase.py\", line 283, in dispatcher\n    return self.dispatch_shell(stream, msg)\n  File \"C:\\Users\\multi\\Anaconda3\\envs\\py35\\lib\\site-packages\\ipykernel\\kernelbase.py\", line 235, in dispatch_shell\n    handler(stream, idents, msg)\n  File \"C:\\Users\\multi\\Anaconda3\\envs\\py35\\lib\\site-packages\\ipykernel\\kernelbase.py\", line 399, in execute_request\n    user_expressions, allow_stdin)\n  File \"C:\\Users\\multi\\Anaconda3\\envs\\py35\\lib\\site-packages\\ipykernel\\ipkernel.py\", line 196, in do_execute\n    res = shell.run_cell(code, store_history=store_history, silent=silent)\n  File \"C:\\Users\\multi\\Anaconda3\\envs\\py35\\lib\\site-packages\\ipykernel\\zmqshell.py\", line 533, in run_cell\n    return super(ZMQInteractiveShell, self).run_cell(*args, **kwargs)\n  File \"C:\\Users\\multi\\Anaconda3\\envs\\py35\\lib\\site-packages\\IPython\\core\\interactiveshell.py\", line 2717, in run_cell\n    interactivity=interactivity, compiler=compiler, result=result)\n  File \"C:\\Users\\multi\\Anaconda3\\envs\\py35\\lib\\site-packages\\IPython\\core\\interactiveshell.py\", line 2821, in run_ast_nodes\n    if self.run_code(code, result):\n  File \"C:\\Users\\multi\\Anaconda3\\envs\\py35\\lib\\site-packages\\IPython\\core\\interactiveshell.py\", line 2881, in run_code\n    exec(code_obj, self.user_global_ns, self.user_ns)\n  File \"<ipython-input-22-13eb726694d8>\", line 7, in <module>\n    L2 = tf.reshape(L2, [-1, 8 * 4 * 4])\n  File \"C:\\Users\\multi\\Anaconda3\\envs\\py35\\lib\\site-packages\\tensorflow\\python\\ops\\gen_array_ops.py\", line 2451, in reshape\n    name=name)\n  File \"C:\\Users\\multi\\Anaconda3\\envs\\py35\\lib\\site-packages\\tensorflow\\python\\framework\\op_def_library.py\", line 767, in apply_op\n    op_def=op_def)\n  File \"C:\\Users\\multi\\Anaconda3\\envs\\py35\\lib\\site-packages\\tensorflow\\python\\framework\\ops.py\", line 2506, in create_op\n    original_op=self._default_original_op, op_def=op_def)\n  File \"C:\\Users\\multi\\Anaconda3\\envs\\py35\\lib\\site-packages\\tensorflow\\python\\framework\\ops.py\", line 1269, in __init__\n    self._traceback = _extract_stack()\n\nInvalidArgumentError (see above for traceback): Input to reshape is a tensor with 680 values, but the requested shape requires a multiple of 128\n\t [[Node: Layer2/Reshape = Reshape[T=DT_FLOAT, Tshape=DT_INT32, _device=\"/job:localhost/replica:0/task:0/cpu:0\"](Layer2/dropout/mul, Layer2/Reshape/shape)]]\n",
     "output_type": "error",
     "traceback": [
      "\u001b[1;31m---------------------------------------------------------------------------\u001b[0m",
      "\u001b[1;31mInvalidArgumentError\u001b[0m                      Traceback (most recent call last)",
      "\u001b[1;32mC:\\Users\\multi\\Anaconda3\\envs\\py35\\lib\\site-packages\\tensorflow\\python\\client\\session.py\u001b[0m in \u001b[0;36m_do_call\u001b[1;34m(self, fn, *args)\u001b[0m\n\u001b[0;32m   1138\u001b[0m     \u001b[1;32mtry\u001b[0m\u001b[1;33m:\u001b[0m\u001b[1;33m\u001b[0m\u001b[0m\n\u001b[1;32m-> 1139\u001b[1;33m       \u001b[1;32mreturn\u001b[0m \u001b[0mfn\u001b[0m\u001b[1;33m(\u001b[0m\u001b[1;33m*\u001b[0m\u001b[0margs\u001b[0m\u001b[1;33m)\u001b[0m\u001b[1;33m\u001b[0m\u001b[0m\n\u001b[0m\u001b[0;32m   1140\u001b[0m     \u001b[1;32mexcept\u001b[0m \u001b[0merrors\u001b[0m\u001b[1;33m.\u001b[0m\u001b[0mOpError\u001b[0m \u001b[1;32mas\u001b[0m \u001b[0me\u001b[0m\u001b[1;33m:\u001b[0m\u001b[1;33m\u001b[0m\u001b[0m\n",
      "\u001b[1;32mC:\\Users\\multi\\Anaconda3\\envs\\py35\\lib\\site-packages\\tensorflow\\python\\client\\session.py\u001b[0m in \u001b[0;36m_run_fn\u001b[1;34m(session, feed_dict, fetch_list, target_list, options, run_metadata)\u001b[0m\n\u001b[0;32m   1120\u001b[0m                                  \u001b[0mfeed_dict\u001b[0m\u001b[1;33m,\u001b[0m \u001b[0mfetch_list\u001b[0m\u001b[1;33m,\u001b[0m \u001b[0mtarget_list\u001b[0m\u001b[1;33m,\u001b[0m\u001b[1;33m\u001b[0m\u001b[0m\n\u001b[1;32m-> 1121\u001b[1;33m                                  status, run_metadata)\n\u001b[0m\u001b[0;32m   1122\u001b[0m \u001b[1;33m\u001b[0m\u001b[0m\n",
      "\u001b[1;32mC:\\Users\\multi\\Anaconda3\\envs\\py35\\lib\\contextlib.py\u001b[0m in \u001b[0;36m__exit__\u001b[1;34m(self, type, value, traceback)\u001b[0m\n\u001b[0;32m     65\u001b[0m             \u001b[1;32mtry\u001b[0m\u001b[1;33m:\u001b[0m\u001b[1;33m\u001b[0m\u001b[0m\n\u001b[1;32m---> 66\u001b[1;33m                 \u001b[0mnext\u001b[0m\u001b[1;33m(\u001b[0m\u001b[0mself\u001b[0m\u001b[1;33m.\u001b[0m\u001b[0mgen\u001b[0m\u001b[1;33m)\u001b[0m\u001b[1;33m\u001b[0m\u001b[0m\n\u001b[0m\u001b[0;32m     67\u001b[0m             \u001b[1;32mexcept\u001b[0m \u001b[0mStopIteration\u001b[0m\u001b[1;33m:\u001b[0m\u001b[1;33m\u001b[0m\u001b[0m\n",
      "\u001b[1;32mC:\\Users\\multi\\Anaconda3\\envs\\py35\\lib\\site-packages\\tensorflow\\python\\framework\\errors_impl.py\u001b[0m in \u001b[0;36mraise_exception_on_not_ok_status\u001b[1;34m()\u001b[0m\n\u001b[0;32m    465\u001b[0m           \u001b[0mcompat\u001b[0m\u001b[1;33m.\u001b[0m\u001b[0mas_text\u001b[0m\u001b[1;33m(\u001b[0m\u001b[0mpywrap_tensorflow\u001b[0m\u001b[1;33m.\u001b[0m\u001b[0mTF_Message\u001b[0m\u001b[1;33m(\u001b[0m\u001b[0mstatus\u001b[0m\u001b[1;33m)\u001b[0m\u001b[1;33m)\u001b[0m\u001b[1;33m,\u001b[0m\u001b[1;33m\u001b[0m\u001b[0m\n\u001b[1;32m--> 466\u001b[1;33m           pywrap_tensorflow.TF_GetCode(status))\n\u001b[0m\u001b[0;32m    467\u001b[0m   \u001b[1;32mfinally\u001b[0m\u001b[1;33m:\u001b[0m\u001b[1;33m\u001b[0m\u001b[0m\n",
      "\u001b[1;31mInvalidArgumentError\u001b[0m: Input to reshape is a tensor with 680 values, but the requested shape requires a multiple of 128\n\t [[Node: Layer2/Reshape = Reshape[T=DT_FLOAT, Tshape=DT_INT32, _device=\"/job:localhost/replica:0/task:0/cpu:0\"](Layer2/dropout/mul, Layer2/Reshape/shape)]]",
      "\nDuring handling of the above exception, another exception occurred:\n",
      "\u001b[1;31mInvalidArgumentError\u001b[0m                      Traceback (most recent call last)",
      "\u001b[1;32m<ipython-input-29-34a2d5161381>\u001b[0m in \u001b[0;36m<module>\u001b[1;34m()\u001b[0m\n\u001b[0;32m     13\u001b[0m \u001b[1;31m#     print(x_input)\u001b[0m\u001b[1;33m\u001b[0m\u001b[1;33m\u001b[0m\u001b[0m\n\u001b[0;32m     14\u001b[0m     \u001b[1;32mfor\u001b[0m \u001b[0mstep\u001b[0m \u001b[1;32min\u001b[0m \u001b[0mrange\u001b[0m\u001b[1;33m(\u001b[0m\u001b[0miteration\u001b[0m\u001b[1;33m)\u001b[0m\u001b[1;33m:\u001b[0m\u001b[1;33m\u001b[0m\u001b[0m\n\u001b[1;32m---> 15\u001b[1;33m         \u001b[0msummary\u001b[0m\u001b[1;33m,\u001b[0m \u001b[0m_\u001b[0m \u001b[1;33m=\u001b[0m \u001b[0msess\u001b[0m\u001b[1;33m.\u001b[0m\u001b[0mrun\u001b[0m\u001b[1;33m(\u001b[0m\u001b[1;33m[\u001b[0m\u001b[0mmerged_summary\u001b[0m\u001b[1;33m,\u001b[0m \u001b[0moptimizer\u001b[0m\u001b[1;33m]\u001b[0m\u001b[1;33m,\u001b[0m \u001b[0mfeed_dict\u001b[0m\u001b[1;33m=\u001b[0m\u001b[1;33m{\u001b[0m\u001b[0mX\u001b[0m\u001b[1;33m:\u001b[0m \u001b[0mx_data\u001b[0m\u001b[1;33m,\u001b[0m \u001b[0mY\u001b[0m\u001b[1;33m:\u001b[0m \u001b[0my_data\u001b[0m\u001b[1;33m,\u001b[0m \u001b[0mkeep_prob\u001b[0m\u001b[1;33m:\u001b[0m \u001b[1;36m0.7\u001b[0m\u001b[1;33m}\u001b[0m\u001b[1;33m)\u001b[0m\u001b[1;33m\u001b[0m\u001b[0m\n\u001b[0m\u001b[0;32m     16\u001b[0m       \u001b[1;31m#  writer.add_summary(summary, global_step=step)\u001b[0m\u001b[1;33m\u001b[0m\u001b[1;33m\u001b[0m\u001b[0m\n\u001b[0;32m     17\u001b[0m \u001b[1;33m\u001b[0m\u001b[0m\n",
      "\u001b[1;32mC:\\Users\\multi\\Anaconda3\\envs\\py35\\lib\\site-packages\\tensorflow\\python\\client\\session.py\u001b[0m in \u001b[0;36mrun\u001b[1;34m(self, fetches, feed_dict, options, run_metadata)\u001b[0m\n\u001b[0;32m    787\u001b[0m     \u001b[1;32mtry\u001b[0m\u001b[1;33m:\u001b[0m\u001b[1;33m\u001b[0m\u001b[0m\n\u001b[0;32m    788\u001b[0m       result = self._run(None, fetches, feed_dict, options_ptr,\n\u001b[1;32m--> 789\u001b[1;33m                          run_metadata_ptr)\n\u001b[0m\u001b[0;32m    790\u001b[0m       \u001b[1;32mif\u001b[0m \u001b[0mrun_metadata\u001b[0m\u001b[1;33m:\u001b[0m\u001b[1;33m\u001b[0m\u001b[0m\n\u001b[0;32m    791\u001b[0m         \u001b[0mproto_data\u001b[0m \u001b[1;33m=\u001b[0m \u001b[0mtf_session\u001b[0m\u001b[1;33m.\u001b[0m\u001b[0mTF_GetBuffer\u001b[0m\u001b[1;33m(\u001b[0m\u001b[0mrun_metadata_ptr\u001b[0m\u001b[1;33m)\u001b[0m\u001b[1;33m\u001b[0m\u001b[0m\n",
      "\u001b[1;32mC:\\Users\\multi\\Anaconda3\\envs\\py35\\lib\\site-packages\\tensorflow\\python\\client\\session.py\u001b[0m in \u001b[0;36m_run\u001b[1;34m(self, handle, fetches, feed_dict, options, run_metadata)\u001b[0m\n\u001b[0;32m    995\u001b[0m     \u001b[1;32mif\u001b[0m \u001b[0mfinal_fetches\u001b[0m \u001b[1;32mor\u001b[0m \u001b[0mfinal_targets\u001b[0m\u001b[1;33m:\u001b[0m\u001b[1;33m\u001b[0m\u001b[0m\n\u001b[0;32m    996\u001b[0m       results = self._do_run(handle, final_targets, final_fetches,\n\u001b[1;32m--> 997\u001b[1;33m                              feed_dict_string, options, run_metadata)\n\u001b[0m\u001b[0;32m    998\u001b[0m     \u001b[1;32melse\u001b[0m\u001b[1;33m:\u001b[0m\u001b[1;33m\u001b[0m\u001b[0m\n\u001b[0;32m    999\u001b[0m       \u001b[0mresults\u001b[0m \u001b[1;33m=\u001b[0m \u001b[1;33m[\u001b[0m\u001b[1;33m]\u001b[0m\u001b[1;33m\u001b[0m\u001b[0m\n",
      "\u001b[1;32mC:\\Users\\multi\\Anaconda3\\envs\\py35\\lib\\site-packages\\tensorflow\\python\\client\\session.py\u001b[0m in \u001b[0;36m_do_run\u001b[1;34m(self, handle, target_list, fetch_list, feed_dict, options, run_metadata)\u001b[0m\n\u001b[0;32m   1130\u001b[0m     \u001b[1;32mif\u001b[0m \u001b[0mhandle\u001b[0m \u001b[1;32mis\u001b[0m \u001b[1;32mNone\u001b[0m\u001b[1;33m:\u001b[0m\u001b[1;33m\u001b[0m\u001b[0m\n\u001b[0;32m   1131\u001b[0m       return self._do_call(_run_fn, self._session, feed_dict, fetch_list,\n\u001b[1;32m-> 1132\u001b[1;33m                            target_list, options, run_metadata)\n\u001b[0m\u001b[0;32m   1133\u001b[0m     \u001b[1;32melse\u001b[0m\u001b[1;33m:\u001b[0m\u001b[1;33m\u001b[0m\u001b[0m\n\u001b[0;32m   1134\u001b[0m       return self._do_call(_prun_fn, self._session, handle, feed_dict,\n",
      "\u001b[1;32mC:\\Users\\multi\\Anaconda3\\envs\\py35\\lib\\site-packages\\tensorflow\\python\\client\\session.py\u001b[0m in \u001b[0;36m_do_call\u001b[1;34m(self, fn, *args)\u001b[0m\n\u001b[0;32m   1150\u001b[0m         \u001b[1;32mexcept\u001b[0m \u001b[0mKeyError\u001b[0m\u001b[1;33m:\u001b[0m\u001b[1;33m\u001b[0m\u001b[0m\n\u001b[0;32m   1151\u001b[0m           \u001b[1;32mpass\u001b[0m\u001b[1;33m\u001b[0m\u001b[0m\n\u001b[1;32m-> 1152\u001b[1;33m       \u001b[1;32mraise\u001b[0m \u001b[0mtype\u001b[0m\u001b[1;33m(\u001b[0m\u001b[0me\u001b[0m\u001b[1;33m)\u001b[0m\u001b[1;33m(\u001b[0m\u001b[0mnode_def\u001b[0m\u001b[1;33m,\u001b[0m \u001b[0mop\u001b[0m\u001b[1;33m,\u001b[0m \u001b[0mmessage\u001b[0m\u001b[1;33m)\u001b[0m\u001b[1;33m\u001b[0m\u001b[0m\n\u001b[0m\u001b[0;32m   1153\u001b[0m \u001b[1;33m\u001b[0m\u001b[0m\n\u001b[0;32m   1154\u001b[0m   \u001b[1;32mdef\u001b[0m \u001b[0m_extend_graph\u001b[0m\u001b[1;33m(\u001b[0m\u001b[0mself\u001b[0m\u001b[1;33m)\u001b[0m\u001b[1;33m:\u001b[0m\u001b[1;33m\u001b[0m\u001b[0m\n",
      "\u001b[1;31mInvalidArgumentError\u001b[0m: Input to reshape is a tensor with 680 values, but the requested shape requires a multiple of 128\n\t [[Node: Layer2/Reshape = Reshape[T=DT_FLOAT, Tshape=DT_INT32, _device=\"/job:localhost/replica:0/task:0/cpu:0\"](Layer2/dropout/mul, Layer2/Reshape/shape)]]\n\nCaused by op 'Layer2/Reshape', defined at:\n  File \"C:\\Users\\multi\\Anaconda3\\envs\\py35\\lib\\runpy.py\", line 193, in _run_module_as_main\n    \"__main__\", mod_spec)\n  File \"C:\\Users\\multi\\Anaconda3\\envs\\py35\\lib\\runpy.py\", line 85, in _run_code\n    exec(code, run_globals)\n  File \"C:\\Users\\multi\\Anaconda3\\envs\\py35\\lib\\site-packages\\ipykernel_launcher.py\", line 16, in <module>\n    app.launch_new_instance()\n  File \"C:\\Users\\multi\\Anaconda3\\envs\\py35\\lib\\site-packages\\traitlets\\config\\application.py\", line 658, in launch_instance\n    app.start()\n  File \"C:\\Users\\multi\\Anaconda3\\envs\\py35\\lib\\site-packages\\ipykernel\\kernelapp.py\", line 477, in start\n    ioloop.IOLoop.instance().start()\n  File \"C:\\Users\\multi\\Anaconda3\\envs\\py35\\lib\\site-packages\\zmq\\eventloop\\ioloop.py\", line 177, in start\n    super(ZMQIOLoop, self).start()\n  File \"C:\\Users\\multi\\Anaconda3\\envs\\py35\\lib\\site-packages\\tornado\\ioloop.py\", line 888, in start\n    handler_func(fd_obj, events)\n  File \"C:\\Users\\multi\\Anaconda3\\envs\\py35\\lib\\site-packages\\tornado\\stack_context.py\", line 277, in null_wrapper\n    return fn(*args, **kwargs)\n  File \"C:\\Users\\multi\\Anaconda3\\envs\\py35\\lib\\site-packages\\zmq\\eventloop\\zmqstream.py\", line 440, in _handle_events\n    self._handle_recv()\n  File \"C:\\Users\\multi\\Anaconda3\\envs\\py35\\lib\\site-packages\\zmq\\eventloop\\zmqstream.py\", line 472, in _handle_recv\n    self._run_callback(callback, msg)\n  File \"C:\\Users\\multi\\Anaconda3\\envs\\py35\\lib\\site-packages\\zmq\\eventloop\\zmqstream.py\", line 414, in _run_callback\n    callback(*args, **kwargs)\n  File \"C:\\Users\\multi\\Anaconda3\\envs\\py35\\lib\\site-packages\\tornado\\stack_context.py\", line 277, in null_wrapper\n    return fn(*args, **kwargs)\n  File \"C:\\Users\\multi\\Anaconda3\\envs\\py35\\lib\\site-packages\\ipykernel\\kernelbase.py\", line 283, in dispatcher\n    return self.dispatch_shell(stream, msg)\n  File \"C:\\Users\\multi\\Anaconda3\\envs\\py35\\lib\\site-packages\\ipykernel\\kernelbase.py\", line 235, in dispatch_shell\n    handler(stream, idents, msg)\n  File \"C:\\Users\\multi\\Anaconda3\\envs\\py35\\lib\\site-packages\\ipykernel\\kernelbase.py\", line 399, in execute_request\n    user_expressions, allow_stdin)\n  File \"C:\\Users\\multi\\Anaconda3\\envs\\py35\\lib\\site-packages\\ipykernel\\ipkernel.py\", line 196, in do_execute\n    res = shell.run_cell(code, store_history=store_history, silent=silent)\n  File \"C:\\Users\\multi\\Anaconda3\\envs\\py35\\lib\\site-packages\\ipykernel\\zmqshell.py\", line 533, in run_cell\n    return super(ZMQInteractiveShell, self).run_cell(*args, **kwargs)\n  File \"C:\\Users\\multi\\Anaconda3\\envs\\py35\\lib\\site-packages\\IPython\\core\\interactiveshell.py\", line 2717, in run_cell\n    interactivity=interactivity, compiler=compiler, result=result)\n  File \"C:\\Users\\multi\\Anaconda3\\envs\\py35\\lib\\site-packages\\IPython\\core\\interactiveshell.py\", line 2821, in run_ast_nodes\n    if self.run_code(code, result):\n  File \"C:\\Users\\multi\\Anaconda3\\envs\\py35\\lib\\site-packages\\IPython\\core\\interactiveshell.py\", line 2881, in run_code\n    exec(code_obj, self.user_global_ns, self.user_ns)\n  File \"<ipython-input-22-13eb726694d8>\", line 7, in <module>\n    L2 = tf.reshape(L2, [-1, 8 * 4 * 4])\n  File \"C:\\Users\\multi\\Anaconda3\\envs\\py35\\lib\\site-packages\\tensorflow\\python\\ops\\gen_array_ops.py\", line 2451, in reshape\n    name=name)\n  File \"C:\\Users\\multi\\Anaconda3\\envs\\py35\\lib\\site-packages\\tensorflow\\python\\framework\\op_def_library.py\", line 767, in apply_op\n    op_def=op_def)\n  File \"C:\\Users\\multi\\Anaconda3\\envs\\py35\\lib\\site-packages\\tensorflow\\python\\framework\\ops.py\", line 2506, in create_op\n    original_op=self._default_original_op, op_def=op_def)\n  File \"C:\\Users\\multi\\Anaconda3\\envs\\py35\\lib\\site-packages\\tensorflow\\python\\framework\\ops.py\", line 1269, in __init__\n    self._traceback = _extract_stack()\n\nInvalidArgumentError (see above for traceback): Input to reshape is a tensor with 680 values, but the requested shape requires a multiple of 128\n\t [[Node: Layer2/Reshape = Reshape[T=DT_FLOAT, Tshape=DT_INT32, _device=\"/job:localhost/replica:0/task:0/cpu:0\"](Layer2/dropout/mul, Layer2/Reshape/shape)]]\n"
     ]
    }
   ],
   "source": [
    "# Launch graph\n",
    "with tf.Session() as sess:\n",
    "    # tensorboard --logdir=./logs\n",
    "    merged_summary = tf.summary.merge_all()\n",
    "    lr = str(learning_rate)\n",
    "    epo = str(iteration)\n",
    "    #writer = tf.summary.FileWriter(\"./1226_\"+ str(now.minute) + str(now.second) +\"iter\" + epo +\"/lr\"+lr)\n",
    "   # writer.add_graph(sess.graph)  # Show the graph\n",
    "    \n",
    "    # Initialize TensorFlow variables\n",
    "    sess.run(tf.global_variables_initializer())\n",
    "\n",
    "#     print(x_input)\n",
    "    for step in range(iteration):\n",
    "        summary, _ = sess.run([merged_summary, optimizer], feed_dict={X: x_data, Y: y_data, keep_prob: 0.7})\n",
    "      #  writer.add_summary(summary, global_step=step)\n",
    "\n",
    "        if step % 100 == 0:\n",
    "            loss, acc = sess.run([cost, accuracy], feed_dict={X: x_data, Y: y_data, keep_prob: 0.7})\n",
    "            print(\"Training Step: {:5}\\tLoss: {:.5f}\\tAcc: {:.2%}\".format(step, loss, acc))\n",
    "#             print(\"\\nLayer1 Weight: \",sess.run([W1]),\n",
    "#                   \"\\nLayer1 Bias: \",sess.run([b1]),\n",
    "#                   \"\\nLayer2 Weight: \",sess.run([W2]),\n",
    "#                   \"\\nLayer2 Bias: \",sess.run([b2]),\n",
    "#                   \"\\nLayer3 Weight: \",sess.run([W3]),\n",
    "#                   \"\\nLayer3 Bias: \",sess.run([b3]))\n",
    "            \n",
    "#           print(\"Training Step: \", step, \" Cost: \",sess.run(cost, feed_dict={X: x_data, Y: y_data}))\n",
    "\n",
    "    # Let's see if we can predict\n",
    "    pred = sess.run(prediction, feed_dict={X: x_data, keep_prob: 1.0})\n",
    "    # y_data: (N,1) = flatten => (N, ) matches pred.shape\n",
    "    for p, y in zip(pred, y_data.flatten()):\n",
    "        print(\"[{}] Prediction: {} True Y: {}\".format(p == int(y), p, int(y)))\n",
    "        \n",
    "        \n",
    "    print(\"----------------------------------------------------------------------------------\")    \n",
    "    print(\"------------------------------------TEST--SET-------------------------------------\")    \n",
    "    print(\"----------------------------------------------------------------------------------\")\n",
    "\n",
    "    pred = sess.run(prediction, feed_dict={X: test_data, keep_prob: 1.0})\n",
    "    # y_data: (N,1) = flatten => (N, ) matches pred.shape\n",
    "    for p, y in zip(pred, test_true.flatten()):\n",
    "        print(\"[{}] Prediction: {} True Y: {}\".format(p == int(y), p, int(y)))\n",
    "    \n",
    "    \n",
    "    \n",
    "#     # Accuracy report\n",
    "\n",
    "#     h, c, a = sess.run([hypothesis, prediction, accuracy], feed_dict={X: x_data, Y: y_data})\n",
    "#     print(\"\\nHypothesis: \", h, \"\\nPrediction: \", c, \"\\nAccuracy: \", a)\n",
    "#     print('\\n---TEST---')\n",
    "#     t = sess.run([prediction],feed_dict={X: test_data})\n",
    "#     print(t)"
   ]
  },
  {
   "cell_type": "code",
   "execution_count": null,
   "metadata": {
    "collapsed": true
   },
   "outputs": [],
   "source": []
  },
  {
   "cell_type": "code",
   "execution_count": null,
   "metadata": {
    "collapsed": true
   },
   "outputs": [],
   "source": []
  },
  {
   "cell_type": "code",
   "execution_count": null,
   "metadata": {
    "collapsed": true
   },
   "outputs": [],
   "source": []
  },
  {
   "cell_type": "code",
   "execution_count": null,
   "metadata": {
    "collapsed": true
   },
   "outputs": [],
   "source": []
  },
  {
   "cell_type": "code",
   "execution_count": null,
   "metadata": {
    "collapsed": true
   },
   "outputs": [],
   "source": []
  },
  {
   "cell_type": "code",
   "execution_count": null,
   "metadata": {
    "collapsed": true
   },
   "outputs": [],
   "source": []
  }
 ],
 "metadata": {
  "kernelspec": {
   "display_name": "Python 3",
   "language": "python",
   "name": "python3"
  },
  "language_info": {
   "codemirror_mode": {
    "name": "ipython",
    "version": 3
   },
   "file_extension": ".py",
   "mimetype": "text/x-python",
   "name": "python",
   "nbconvert_exporter": "python",
   "pygments_lexer": "ipython3",
   "version": "3.5.3"
  }
 },
 "nbformat": 4,
 "nbformat_minor": 2
}
